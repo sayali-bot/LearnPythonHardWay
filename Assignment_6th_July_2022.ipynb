{
 "cells": [
  {
   "cell_type": "markdown",
   "id": "fea04eee",
   "metadata": {},
   "source": [
    "**You work in ABC Corporation as a Data Analyst.**\n",
    "\n",
    "**Your corporation has told you to use the numpy package and do some tasks related to that**\n",
    "\n",
    "- Tasks to be performed\n",
    "\n",
    "- 1. Create a 3x3 matrix array with values ranging from 2 to 10."
   ]
  },
  {
   "cell_type": "code",
   "execution_count": 1,
   "id": "813432ca",
   "metadata": {},
   "outputs": [],
   "source": [
    "import numpy as np"
   ]
  },
  {
   "cell_type": "code",
   "execution_count": 3,
   "id": "36fa81db",
   "metadata": {},
   "outputs": [],
   "source": [
    "arr = np.array([[2,3,6],[7,4,8],[1,3,9]])"
   ]
  },
  {
   "cell_type": "code",
   "execution_count": 4,
   "id": "c9b119fc",
   "metadata": {},
   "outputs": [
    {
     "data": {
      "text/plain": [
       "array([[2, 3, 6],\n",
       "       [7, 4, 8],\n",
       "       [1, 3, 9]])"
      ]
     },
     "execution_count": 4,
     "metadata": {},
     "output_type": "execute_result"
    }
   ],
   "source": [
    "arr"
   ]
  },
  {
   "cell_type": "code",
   "execution_count": 5,
   "id": "db95ea2c",
   "metadata": {},
   "outputs": [
    {
     "data": {
      "text/plain": [
       "(3, 3)"
      ]
     },
     "execution_count": 5,
     "metadata": {},
     "output_type": "execute_result"
    }
   ],
   "source": [
    "arr.shape"
   ]
  },
  {
   "cell_type": "markdown",
   "id": "768aa566",
   "metadata": {},
   "source": [
    "- 2. Create a numpy array having user input values and convert the integer type to\n",
    "  the float type of the elements of the array. \n",
    " \n",
    "- For instance:\n",
    "\n",
    "**Original array [1, 2, 3, 4]**\n",
    "\n",
    "\n",
    "**Array converted to a float type: [ 1. 2. 3. 4.]**"
   ]
  },
  {
   "cell_type": "code",
   "execution_count": 20,
   "id": "d77c9a0b",
   "metadata": {},
   "outputs": [
    {
     "name": "stdout",
     "output_type": "stream",
     "text": [
      "enter elements:45\n",
      "enter elements:67\n",
      "enter elements:23\n",
      "enter elements:78\n",
      "enter elements:12\n",
      "[45 67 23 78 12]\n"
     ]
    }
   ],
   "source": [
    "my_array = []\n",
    "for i in range(5):\n",
    "    int_arr = int(input('enter elements:'))\n",
    "    my_array.append(int_arr)\n",
    "new = np.array(my_array)\n",
    "print(new)"
   ]
  },
  {
   "cell_type": "code",
   "execution_count": 21,
   "id": "383512a6",
   "metadata": {},
   "outputs": [
    {
     "data": {
      "text/plain": [
       "numpy.ndarray"
      ]
     },
     "execution_count": 21,
     "metadata": {},
     "output_type": "execute_result"
    }
   ],
   "source": [
    "# my_array.astype(float)\n",
    "type(new)"
   ]
  },
  {
   "cell_type": "code",
   "execution_count": 22,
   "id": "5aeed538",
   "metadata": {},
   "outputs": [],
   "source": [
    "new1 = [float(i) for i in new]  "
   ]
  },
  {
   "cell_type": "code",
   "execution_count": 23,
   "id": "e07375c2",
   "metadata": {},
   "outputs": [
    {
     "data": {
      "text/plain": [
       "[45.0, 67.0, 23.0, 78.0, 12.0]"
      ]
     },
     "execution_count": 23,
     "metadata": {},
     "output_type": "execute_result"
    }
   ],
   "source": [
    "new1"
   ]
  },
  {
   "cell_type": "markdown",
   "id": "c2392567",
   "metadata": {},
   "source": [
    "- 3. Write a Numpy program to append values to the end of an array.\n",
    "\n",
    "- For instance:\n",
    "\n",
    "**Original array: [10, 20, 30]**\n",
    "\n",
    "**After append values to the end of the array: [10 20 30 40 50 60 70 80 90]**"
   ]
  },
  {
   "cell_type": "code",
   "execution_count": 13,
   "id": "c0bba073",
   "metadata": {},
   "outputs": [],
   "source": [
    "s1 = np.array([10,20,30])"
   ]
  },
  {
   "cell_type": "code",
   "execution_count": 14,
   "id": "82ed13f3",
   "metadata": {},
   "outputs": [
    {
     "data": {
      "text/plain": [
       "array([10, 20, 30])"
      ]
     },
     "execution_count": 14,
     "metadata": {},
     "output_type": "execute_result"
    }
   ],
   "source": [
    "s1"
   ]
  },
  {
   "cell_type": "code",
   "execution_count": 29,
   "id": "78b5192b",
   "metadata": {},
   "outputs": [],
   "source": [
    "s2 = np.append(s1,[40,50,60,70,80,90])"
   ]
  },
  {
   "cell_type": "code",
   "execution_count": 30,
   "id": "50a18422",
   "metadata": {},
   "outputs": [
    {
     "data": {
      "text/plain": [
       "array([10, 20, 30, 40, 50, 60, 70, 80, 90])"
      ]
     },
     "execution_count": 30,
     "metadata": {},
     "output_type": "execute_result"
    }
   ],
   "source": [
    "s2"
   ]
  },
  {
   "cell_type": "code",
   "execution_count": 31,
   "id": "8381dcfd",
   "metadata": {},
   "outputs": [
    {
     "data": {
      "text/plain": [
       "numpy.ndarray"
      ]
     },
     "execution_count": 31,
     "metadata": {},
     "output_type": "execute_result"
    }
   ],
   "source": [
    "type(s2)"
   ]
  },
  {
   "cell_type": "markdown",
   "id": "0609b64d",
   "metadata": {},
   "source": [
    "- 4. Create two numpy arrays and add the elements of both the arrays and store the\n",
    "  result in sumArray."
   ]
  },
  {
   "cell_type": "code",
   "execution_count": 34,
   "id": "2f19bd4d",
   "metadata": {},
   "outputs": [],
   "source": [
    "n1 = np.array([4,7,9])\n",
    "n2 = np.array([8,2,6])"
   ]
  },
  {
   "cell_type": "code",
   "execution_count": 36,
   "id": "5770440e",
   "metadata": {},
   "outputs": [],
   "source": [
    "sumArray = n1 + n2"
   ]
  },
  {
   "cell_type": "code",
   "execution_count": 37,
   "id": "ab3e1c41",
   "metadata": {},
   "outputs": [
    {
     "data": {
      "text/plain": [
       "array([12,  9, 15])"
      ]
     },
     "execution_count": 37,
     "metadata": {},
     "output_type": "execute_result"
    }
   ],
   "source": [
    "sumArray"
   ]
  },
  {
   "cell_type": "markdown",
   "id": "43733dfa",
   "metadata": {},
   "source": [
    "- **5. Create a 3*3 array having values from 10-90(interval of 10) and store that in\n",
    "  array1.**\n",
    "  \n",
    "  \n",
    "**Perform the following tasks:**\n",
    "\n",
    "- **a. Extract the 1st row from the array.**\n",
    "- **b. Extract the last element from the array.**"
   ]
  },
  {
   "cell_type": "code",
   "execution_count": 45,
   "id": "8bde59e0",
   "metadata": {},
   "outputs": [],
   "source": [
    "array1 = np.arange(10,100,10)"
   ]
  },
  {
   "cell_type": "code",
   "execution_count": 46,
   "id": "74e0f9cb",
   "metadata": {},
   "outputs": [
    {
     "data": {
      "text/plain": [
       "array([10, 20, 30, 40, 50, 60, 70, 80, 90])"
      ]
     },
     "execution_count": 46,
     "metadata": {},
     "output_type": "execute_result"
    }
   ],
   "source": [
    "array1"
   ]
  },
  {
   "cell_type": "code",
   "execution_count": 48,
   "id": "94335031",
   "metadata": {},
   "outputs": [],
   "source": [
    "array1 = array1.reshape(3,3)"
   ]
  },
  {
   "cell_type": "code",
   "execution_count": 49,
   "id": "0f578598",
   "metadata": {},
   "outputs": [
    {
     "data": {
      "text/plain": [
       "array([[10, 20, 30],\n",
       "       [40, 50, 60],\n",
       "       [70, 80, 90]])"
      ]
     },
     "execution_count": 49,
     "metadata": {},
     "output_type": "execute_result"
    }
   ],
   "source": [
    "array1"
   ]
  },
  {
   "cell_type": "code",
   "execution_count": 51,
   "id": "8e649d3f",
   "metadata": {},
   "outputs": [
    {
     "data": {
      "text/plain": [
       "array([10, 20, 30])"
      ]
     },
     "execution_count": 51,
     "metadata": {},
     "output_type": "execute_result"
    }
   ],
   "source": [
    "array1[0]\n",
    "#extract 1st row from array"
   ]
  },
  {
   "cell_type": "code",
   "execution_count": 52,
   "id": "f8bf8d0e",
   "metadata": {},
   "outputs": [
    {
     "data": {
      "text/plain": [
       "90"
      ]
     },
     "execution_count": 52,
     "metadata": {},
     "output_type": "execute_result"
    }
   ],
   "source": [
    "#extract last element in array\n",
    "array1[2,2]"
   ]
  },
  {
   "cell_type": "code",
   "execution_count": null,
   "id": "eac935dd",
   "metadata": {},
   "outputs": [],
   "source": []
  }
 ],
 "metadata": {
  "kernelspec": {
   "display_name": "Python 3",
   "language": "python",
   "name": "python3"
  },
  "language_info": {
   "codemirror_mode": {
    "name": "ipython",
    "version": 3
   },
   "file_extension": ".py",
   "mimetype": "text/x-python",
   "name": "python",
   "nbconvert_exporter": "python",
   "pygments_lexer": "ipython3",
   "version": "3.8.8"
  }
 },
 "nbformat": 4,
 "nbformat_minor": 5
}
